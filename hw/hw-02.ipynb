{
 "cells": [
  {
   "cell_type": "code",
   "execution_count": 54,
   "metadata": {},
   "outputs": [
    {
     "name": "stdout",
     "output_type": "stream",
     "text": [
      "qwerty\n",
      "qtrewy\n"
     ]
    }
   ],
   "source": [
    "#1\n",
    "str = input(\"Input string: \")\n",
    "\n",
    "result = f\"{str[0]}{str[len(str)-2:0:-1]}{str[-1]}\"\n",
    "\n",
    "print(str)\n",
    "print(result)"
   ]
  },
  {
   "cell_type": "code",
   "execution_count": null,
   "metadata": {},
   "outputs": [
    {
     "name": "stdout",
     "output_type": "stream",
     "text": [
      "365\n",
      "104\n"
     ]
    }
   ],
   "source": [
    "#2\n",
    "num = int(input(\"Input number: \"))\n",
    "\n",
    "result = ((num // 7) * 2) + ((num - (num // 7) * 7) // 6)\n",
    "\n",
    "print(num)\n",
    "print(result)"
   ]
  },
  {
   "cell_type": "code",
   "execution_count": null,
   "metadata": {},
   "outputs": [
    {
     "name": "stdout",
     "output_type": "stream",
     "text": [
      "4, 5, 12\n",
      "True\n"
     ]
    }
   ],
   "source": [
    "#3\n",
    "str = input(\"Input string: \")\n",
    "\n",
    "params = [int(i) for i in str.split(\",\")]\n",
    "\n",
    "result = params[2] % params[0] == 0 or params[2] % params[1] == 0\n",
    "\n",
    "print(str)\n",
    "print(result)\n"
   ]
  },
  {
   "cell_type": "code",
   "execution_count": null,
   "metadata": {},
   "outputs": [
    {
     "name": "stdout",
     "output_type": "stream",
     "text": [
      "0\n",
      "MDCCCLXXV\n"
     ]
    }
   ],
   "source": [
    "#4\n",
    "num = int(input(\"Input number: \"))\n",
    "\n",
    "all_roman = [(1000, 'M'), (900, 'CM'), (500, 'D'), (400, 'CD'), (100, 'C'), (90, 'XC'), (50, 'L'), (40, 'XL'), (10, 'X'), (9, 'IX'), (5, 'V'), (4, 'IV'), (1, 'I')]\n",
    "\n",
    "roman = ''\n",
    "\n",
    "while num > 0:\n",
    "    for n, r in all_roman:\n",
    "        while num >= n:\n",
    "            roman += r\n",
    "            num -= n\n",
    "\n",
    "print(num)\n",
    "print(roman)"
   ]
  },
  {
   "cell_type": "code",
   "execution_count": null,
   "metadata": {},
   "outputs": [
    {
     "name": "stdout",
     "output_type": "stream",
     "text": [
      "False\n"
     ]
    }
   ],
   "source": [
    "#5\n",
    "try:\n",
    "    num = float(input(\"Input number: \"))  \n",
    "    print(True)    \n",
    "except:\n",
    "    print(False) "
   ]
  }
 ],
 "metadata": {
  "kernelspec": {
   "display_name": "Python 3",
   "language": "python",
   "name": "python3"
  },
  "language_info": {
   "codemirror_mode": {
    "name": "ipython",
    "version": 3
   },
   "file_extension": ".py",
   "mimetype": "text/x-python",
   "name": "python",
   "nbconvert_exporter": "python",
   "pygments_lexer": "ipython3",
   "version": "3.13.2"
  }
 },
 "nbformat": 4,
 "nbformat_minor": 2
}
