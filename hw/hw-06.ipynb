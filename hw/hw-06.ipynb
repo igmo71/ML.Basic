{
 "cells": [
  {
   "cell_type": "code",
   "execution_count": 1,
   "id": "ba5c81b7",
   "metadata": {},
   "outputs": [
    {
     "name": "stdout",
     "output_type": "stream",
     "text": [
      "MySuperClass -> my_super_class\n"
     ]
    }
   ],
   "source": [
    "# 1\n",
    "src = input(\"Input string: \")\n",
    "\n",
    "def camel_to_snake(value):\n",
    "    return ''.join(['_' + i.lower() if i.isupper() else i for i in value]).lstrip('_')\n",
    "\n",
    "if src.islower():\n",
    "    import stringcase\n",
    "    print(f\"{src} -> {stringcase.pascalcase(src)}\")\n",
    "else:\n",
    "    print(f\"{src} -> {camel_to_snake(src)}\")  "
   ]
  },
  {
   "cell_type": "code",
   "execution_count": 2,
   "id": "e493f863",
   "metadata": {},
   "outputs": [
    {
     "name": "stdout",
     "output_type": "stream",
     "text": [
      "20.05.2025 -> True\n"
     ]
    }
   ],
   "source": [
    "# 2\n",
    "from datetime import datetime\n",
    "\n",
    "src = input(\"Input date (DD.MM.YYYY): \")\n",
    "\n",
    "def is_valid_date(date_str):\n",
    "    try:\n",
    "        datetime.strptime(date_str, \"%d.%m.%Y\").date()\n",
    "        return True\n",
    "    except:\n",
    "        return False\n",
    "\n",
    "\n",
    "print(f\"{src} -> {is_valid_date(src)}\")"
   ]
  },
  {
   "cell_type": "code",
   "execution_count": 25,
   "id": "efd053fe",
   "metadata": {},
   "outputs": [
    {
     "name": "stdout",
     "output_type": "stream",
     "text": [
      "20 -> False\n"
     ]
    }
   ],
   "source": [
    "# 3\n",
    "src = input(\"Input number: \")\n",
    "\n",
    "def is_prime(n):\n",
    "    d = 2\n",
    "    while n % d != 0:\n",
    "        d += 1\n",
    "    return d == n\n",
    "\n",
    "print(f\"{src} -> {is_prime(int(src))}\")"
   ]
  },
  {
   "cell_type": "code",
   "execution_count": 23,
   "id": "25b0bf23",
   "metadata": {},
   "outputs": [
    {
     "name": "stdout",
     "output_type": "stream",
     "text": [
      "Старый Дед 99 4 - Age mast be from 18 to 60\n",
      "1Имя 2Фамилия 33 5 - Name mast be string\n",
      "{'00000001': ('Иван', 'Петров', 25), '00000002': ('Василий', 'Сидоров', 33), '00000003': ('Антон', 'Валяев', 28), '00000007': ('Максимилиан', 'Череззаборногузадерищенский', 55)}\n"
     ]
    }
   ],
   "source": [
    "# 4\n",
    "def handle_name(name):\n",
    "    if not name.isalpha():\n",
    "        raise ValueError(\"Name mast be string\")\n",
    "    return name.capitalize()\n",
    "    \n",
    "def handle_age(age):\n",
    "    result = int(age)\n",
    "    if not 18 <= result <= 60:\n",
    "        raise ValueError(\"Age mast be from 18 to 60\")\n",
    "    return result\n",
    "\n",
    "def handle_id(id, keys):\n",
    "    if id in keys:\n",
    "        raise ValueError(\"Id is not unique\")\n",
    "    return id.zfill(8)\n",
    "\n",
    "def handle_person(person_str : str, people : dict):\n",
    "    person = person_str.split(' ')\n",
    "    try:        \n",
    "        firstname = handle_name(person[0])        \n",
    "        lastname = handle_name(person[1])\n",
    "        age = handle_age(person[2])  \n",
    "        id = handle_id(person[3], people.keys())\n",
    "        people[id] = (firstname, lastname, age)\n",
    "    except Exception as e:\n",
    "        print(f\"{person_str} - {e}\")\n",
    "        return\n",
    "\n",
    "src = input(\"Input Person (Firstname Lastname Age Id): \")\n",
    "people = {}\n",
    "while src:\n",
    "    handle_person(src, people)\n",
    "    src  = input(\"Input Person: \")\n",
    "\n",
    "print(people)"
   ]
  },
  {
   "cell_type": "code",
   "execution_count": 24,
   "id": "7077f8de",
   "metadata": {},
   "outputs": [
    {
     "name": "stdout",
     "output_type": "stream",
     "text": [
      "      Id  Name, Age\n",
      "--------  --------------------------------------------------\n",
      "00000001  ('Иван', 'Петров', 25)\n",
      "00000002  ('Василий', 'Сидоров', 33)\n",
      "00000003  ('Антон', 'Валяев', 28)\n",
      "00000007  ('Максимилиан', 'Череззаборногузадерищенский', 55)\n"
     ]
    }
   ],
   "source": [
    "# 4.1\n",
    "#pip install tabulate\n",
    "from tabulate import tabulate\n",
    "\n",
    "print(tabulate(people.items(), headers=[\"Id\", \"Name, Age\"], tablefmt='GRID'))"
   ]
  },
  {
   "cell_type": "code",
   "execution_count": 25,
   "id": "b22241e6",
   "metadata": {},
   "outputs": [
    {
     "name": "stdout",
     "output_type": "stream",
     "text": [
      "00000001 | Иван | Петров | 25\n",
      "00000002 | Василий | Сидоров | 33\n",
      "00000003 | Антон | Валяев | 28\n",
      "00000007 | Максимилиан | Череззаборногузадерищенский | 55\n"
     ]
    }
   ],
   "source": [
    "for key, person in people.items():\n",
    "    print(f\"{key} | {\" | \".join(map(str,person))}\")"
   ]
  }
 ],
 "metadata": {
  "kernelspec": {
   "display_name": "Python 3",
   "language": "python",
   "name": "python3"
  },
  "language_info": {
   "codemirror_mode": {
    "name": "ipython",
    "version": 3
   },
   "file_extension": ".py",
   "mimetype": "text/x-python",
   "name": "python",
   "nbconvert_exporter": "python",
   "pygments_lexer": "ipython3",
   "version": "3.13.2"
  }
 },
 "nbformat": 4,
 "nbformat_minor": 5
}
