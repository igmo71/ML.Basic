{
 "cells": [
  {
   "cell_type": "code",
   "execution_count": null,
   "metadata": {},
   "outputs": [
    {
     "name": "stdout",
     "output_type": "stream",
     "text": [
      "Result: 6\n"
     ]
    }
   ],
   "source": [
    "# 1\n",
    "src = input(\"Input integer: \")\n",
    "\n",
    "while len(src) > 1:\n",
    "    num = 0\n",
    "    for char in src:\n",
    "        num += int(char)\n",
    "    src = str(num)\n",
    "        \n",
    "\n",
    "print(f\"Result: {src}\")"
   ]
  },
  {
   "cell_type": "code",
   "execution_count": null,
   "metadata": {},
   "outputs": [
    {
     "name": "stdout",
     "output_type": "stream",
     "text": [
      "False\n"
     ]
    }
   ],
   "source": [
    "# 2\n",
    "src = int(input(\"Input count: \"))\n",
    "\n",
    "# plan = [[0,1,1,0], [1,0,0,0], [0,1,0,0]]\n",
    "plan = [[0,1,1,0], [1,0,1,0], [1,1,0,1]]\n",
    "\n",
    "result = False\n",
    "\n",
    "for index, row in enumerate(plan):\n",
    "    nearby_count = 0\n",
    "    for place in row:\n",
    "        if place == 0:\n",
    "            nearby_count += 1\n",
    "        else:\n",
    "            nearby_count = 0\n",
    "        if nearby_count == src:\n",
    "            result = index\n",
    "            break\n",
    "    if result:  \n",
    "        break\n",
    "\n",
    "print(result)      \n",
    "\n"
   ]
  },
  {
   "cell_type": "code",
   "execution_count": 1,
   "metadata": {},
   "outputs": [
    {
     "name": "stdout",
     "output_type": "stream",
     "text": [
      "aaabbbbccccc -> 3a4b5c\n"
     ]
    }
   ],
   "source": [
    "# 3\n",
    "src = input(\"Input string: \")\n",
    "\n",
    "current = src[0]\n",
    "counter = 0\n",
    "result = \"\"\n",
    "\n",
    "for char in src:\n",
    "    if current == char:\n",
    "        counter += 1\n",
    "    else:        \n",
    "        result += f\"{counter}{current}\"\n",
    "        current = char\n",
    "        counter = 1\n",
    "result += f\"{counter}{current}\"\n",
    "\n",
    "print(f\"{src} -> {result}\")"
   ]
  },
  {
   "cell_type": "code",
   "execution_count": null,
   "metadata": {},
   "outputs": [
    {
     "name": "stdout",
     "output_type": "stream",
     "text": [
      "Python is the BEST -> UdymtsnxymjGJXY\n"
     ]
    }
   ],
   "source": [
    "# 4\n",
    "src = input(\"Input string: \")\n",
    "key = input(\"Input key: \")\n",
    "\n",
    "result = \"\"\n",
    "\n",
    "for char in src:\n",
    "    if char.isalpha():\n",
    "        if char.isupper():\n",
    "            base = ord('A')\n",
    "        else:\n",
    "            base = ord('a')\n",
    "        result += chr((ord(char) - base + int(key)) % 26 + base)  \n",
    "        \n",
    "    # если пробелы шифруются  \n",
    "    #elif char == ' ':\n",
    "    #    result += ' '\n",
    "\n",
    "    # если пробелы не шифруются \n",
    "    else:\n",
    "        continue\n",
    "\n",
    "print(f\"{src} -> {result}\")"
   ]
  },
  {
   "cell_type": "code",
   "execution_count": 17,
   "metadata": {},
   "outputs": [
    {
     "name": "stdout",
     "output_type": "stream",
     "text": [
      "Математика\n",
      "  Иванов 5 4\n",
      "  Петров 5 5\n",
      "  Сидоров 3\n",
      "\n",
      "Литература\n",
      "  Иванов 3 4\n",
      "  Сидоров 3\n",
      "  Петров 5\n",
      "\n"
     ]
    }
   ],
   "source": [
    "# 5\n",
    "src = input()\n",
    "\n",
    "subjects = {}\n",
    "\n",
    "while src:\n",
    "    mark = src.split(' ')\n",
    "\n",
    "    if mark[0] not in subjects:\n",
    "        subjects[mark[0]] = {}\n",
    "\n",
    "    if mark[1] not in subjects[mark[0]]:\n",
    "        subjects[mark[0]][mark[1]] = []\n",
    "\n",
    "    subjects[mark[0]][mark[1]].append(mark[2])\n",
    "\n",
    "    src = input()\n",
    "\n",
    "for subject in subjects:\n",
    "    print(subject)\n",
    "    for student in subjects[subject]:\n",
    "        print(f\"  {student} {' '.join(subjects[subject][student])}\")\n",
    "    print()"
   ]
  }
 ],
 "metadata": {
  "kernelspec": {
   "display_name": "Python 3",
   "language": "python",
   "name": "python3"
  },
  "language_info": {
   "codemirror_mode": {
    "name": "ipython",
    "version": 3
   },
   "file_extension": ".py",
   "mimetype": "text/x-python",
   "name": "python",
   "nbconvert_exporter": "python",
   "pygments_lexer": "ipython3",
   "version": "3.13.2"
  }
 },
 "nbformat": 4,
 "nbformat_minor": 2
}
